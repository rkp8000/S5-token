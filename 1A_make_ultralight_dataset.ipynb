{
 "cells": [
  {
   "cell_type": "markdown",
   "id": "71f868bd-cd83-43ea-bd6b-25af5148a1a3",
   "metadata": {},
   "source": [
    "# Create an ultralight dataset for classification and regression testing\n",
    "\n",
    "Regression target is number of A's in a length-9 token sequence, divided by 9. For classification threshold at .5."
   ]
  },
  {
   "cell_type": "code",
   "execution_count": 1,
   "id": "6323a4e4-88d4-4b2f-a3c8-fd8007c05461",
   "metadata": {},
   "outputs": [],
   "source": [
    "from copy import deepcopy as copy\n",
    "import numpy as np\n",
    "import os\n",
    "import pandas as pd\n",
    "from scipy.signal import fftconvolve\n",
    "import sys"
   ]
  },
  {
   "cell_type": "code",
   "execution_count": 2,
   "id": "f2ab8edc-8724-4d71-bfa5-de64f20dfeac",
   "metadata": {},
   "outputs": [
    {
     "name": "stdout",
     "output_type": "stream",
     "text": [
      "BCBCBCBCB 0.0\n",
      "AAACBAACB 0.5555555555555556\n",
      "AAAABABCA 0.6666666666666666\n",
      "BABCBCBCB 0.1111111111111111\n",
      "AAAAAAACB 0.7777777777777778\n",
      "AAAAAAAAA 1.0\n",
      "BCAAACBAB 0.4444444444444444\n",
      "AAACAAACB 0.6666666666666666\n",
      "AAAAAAAAA 1.0\n",
      "BABAACBCB 0.3333333333333333\n"
     ]
    }
   ],
   "source": [
    "if not os.path.exists('data_s5/ultralight/clf/scrambled'):\n",
    "    os.makedirs('data_s5/ultralight/clf/scrambled')\n",
    "if not os.path.exists('data_s5/ultralight/rgr/scrambled'):\n",
    "    os.makedirs('data_s5/ultralight/rgr/scrambled')\n",
    "    \n",
    "LOOK_BACK = 9\n",
    "\n",
    "NSEQ = 1000\n",
    "\n",
    "seqs = []\n",
    "targs = []\n",
    "\n",
    "for cseq in range(NSEQ):\n",
    "    num_a = np.random.randint(0, LOOK_BACK+1)\n",
    "    seq = ((LOOK_BACK-1)//2)*['B', 'C'] + ['B']\n",
    "    for idx_a in np.random.permutation(LOOK_BACK)[:num_a]:\n",
    "        seq[idx_a] = 'A'\n",
    "        \n",
    "    seqs.append(''.join(seq))\n",
    "    \n",
    "    targ = num_a/LOOK_BACK\n",
    "    targs.append(targ)\n",
    "\n",
    "for idx_print in np.random.permutation(NSEQ)[:10]:\n",
    "    print(seqs[idx_print], targs[idx_print])\n",
    "    \n",
    "seqs = np.array(seqs)\n",
    "targs = np.array(targs)"
   ]
  },
  {
   "cell_type": "code",
   "execution_count": 3,
   "id": "31a63349-97e5-4cc0-8094-b39d29d9e6d0",
   "metadata": {},
   "outputs": [],
   "source": [
    "PFXS = ['clf', 'rgr']"
   ]
  },
  {
   "cell_type": "code",
   "execution_count": 4,
   "id": "05c567b3-2d97-41a8-96ba-daf3a9c99008",
   "metadata": {},
   "outputs": [
    {
     "name": "stdout",
     "output_type": "stream",
     "text": [
      "pfx: clf\n",
      "pfx: rgr\n"
     ]
    }
   ],
   "source": [
    "columns = ['target', 'session', 'frame', 'input_seq']\n",
    "\n",
    "paths_all = []\n",
    "\n",
    "for pfx in PFXS:\n",
    "    sys.stdout.write(f'pfx: {pfx}')\n",
    "    \n",
    "    input_seqs = copy(seqs)\n",
    "    targets = copy(targs)\n",
    "    \n",
    "    if pfx == 'clf':\n",
    "        targets = (targets > .5).astype(int)\n",
    "        \n",
    "    data_dicts = []\n",
    "    \n",
    "    for input_seq, target in zip(input_seqs, targets):\n",
    "        data_dict = {'target': target, 'session': 0, 'frame': 0, 'input_seq': input_seq}\n",
    "        data_dicts.append(data_dict)\n",
    "\n",
    "    print('')\n",
    "    df = pd.DataFrame(columns=columns, data=data_dicts)\n",
    "    path = f'data_s5/ultralight/{pfx}/full.tsv'\n",
    "    df.to_csv(path, sep='\\t', index=False, header=False)\n",
    "\n",
    "    paths_all.append(path)\n",
    "    \n",
    "    # scrambled version\n",
    "    data_dicts_scrambled = []\n",
    "    \n",
    "    for input_seq, target in zip(input_seqs, targets[np.random.permutation(len(targets))]):\n",
    "        data_dict_scrambled = {'target': target, 'session': 0, 'frame': 0, 'input_seq': input_seq}\n",
    "        data_dicts_scrambled.append(data_dict_scrambled)\n",
    "        \n",
    "    df_scrambled = pd.DataFrame(columns=columns, data=data_dicts_scrambled)\n",
    "    path_scrambled = f'data_s5/ultralight/{pfx}/scrambled/full.tsv'\n",
    "    df_scrambled.to_csv(path_scrambled, sep='\\t', index=False, header=False)\n",
    "\n",
    "    paths_all.append(path_scrambled)"
   ]
  },
  {
   "cell_type": "code",
   "execution_count": 5,
   "id": "9c39935c-f498-43a3-823d-515186893a05",
   "metadata": {},
   "outputs": [
    {
     "name": "stdout",
     "output_type": "stream",
     "text": [
      "Loading data_s5/ultralight/clf/full.tsv...\n",
      "Loading data_s5/ultralight/clf/scrambled/full.tsv...\n",
      "Loading data_s5/ultralight/rgr/full.tsv...\n",
      "Loading data_s5/ultralight/rgr/scrambled/full.tsv...\n"
     ]
    }
   ],
   "source": [
    "for path in paths_all:\n",
    "    sys.stdout.write(f'Loading {path}...\\n')\n",
    "    df = pd.read_csv(path, sep='\\t', header=None)\n",
    "\n",
    "    # split into training, val, and test (here val and test are same)\n",
    "    nrow_train = int(len(df)*.8)\n",
    "    df_train = df.iloc[:nrow_train, :]\n",
    "    df_val = df.iloc[nrow_train:, :]\n",
    "    df_test = df.iloc[nrow_train:, :]\n",
    "\n",
    "    df_train.to_csv(path[:-8] + 'train.tsv', sep='\\t', header=False, index=False)\n",
    "    df_val.to_csv(path[:-8] + 'eval.tsv', sep='\\t', header=False, index=False)\n",
    "    df_test.to_csv(path[:-8] + 'test.tsv', sep='\\t', header=False, index=False)"
   ]
  }
 ],
 "metadata": {
  "kernelspec": {
   "display_name": "s5-gpu [~/.conda/envs/s5-gpu/]",
   "language": "python",
   "name": "conda_s5-gpu"
  },
  "language_info": {
   "codemirror_mode": {
    "name": "ipython",
    "version": 3
   },
   "file_extension": ".py",
   "mimetype": "text/x-python",
   "name": "python",
   "nbconvert_exporter": "python",
   "pygments_lexer": "ipython3",
   "version": "3.11.4"
  }
 },
 "nbformat": 4,
 "nbformat_minor": 5
}
